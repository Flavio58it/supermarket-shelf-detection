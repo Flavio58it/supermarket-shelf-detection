{
 "cells": [
  {
   "cell_type": "code",
   "execution_count": 38,
   "metadata": {},
   "outputs": [],
   "source": [
    "import os\n",
    "import numpy as np\n",
    "FList = os.listdir(os.getcwd() + \"/downloads/Not_Stocked/\")\n"
   ]
  },
  {
   "cell_type": "code",
   "execution_count": 41,
   "metadata": {},
   "outputs": [],
   "source": [
    "FListC = [\"downloads/Not_Stocked/\" + x for x in FList]"
   ]
  },
  {
   "cell_type": "code",
   "execution_count": 43,
   "metadata": {},
   "outputs": [],
   "source": [
    "m = 0\n",
    "for i in FListC:\n",
    "    fileExtension = os.path.splitext(i)[1]\n",
    "    try:\n",
    "        os.rename(i,str(m)+fileExtension)\n",
    "        m = m+1\n",
    "    except:\n",
    "        m = m+1\n",
    "        continue\n",
    "        \n",
    "    "
   ]
  },
  {
   "cell_type": "code",
   "execution_count": 33,
   "metadata": {},
   "outputs": [],
   "source": []
  },
  {
   "cell_type": "code",
   "execution_count": 42,
   "metadata": {},
   "outputs": [
    {
     "data": {
      "text/plain": [
       "['downloads/Not_Stocked/44. low-stock-branded-milkhg.jpg',\n",
       " 'downloads/Not_Stocked/20. dml4m6ux4aehepj.jpg',\n",
       " 'downloads/Not_Stocked/3. 636536127262406755-img-3064.jpg',\n",
       " 'downloads/Not_Stocked/22. 348s.jpg',\n",
       " 'downloads/Not_Stocked/4. wal-mart-featured-1.jpg',\n",
       " 'downloads/Not_Stocked/11. empty-grocery-shelves-gf0f1x.jpg',\n",
       " 'downloads/Not_Stocked/10. 32928185-1417693449545204-mitch-nolen.jpg',\n",
       " 'downloads/Not_Stocked/70. empty-shelves-1.jpg',\n",
       " 'downloads/Not_Stocked/52. o.jpg',\n",
       " 'downloads/Not_Stocked/14. walmart-clarksville-tn_empty-shelves-201809101352052_3bbb-gallery.jpeg',\n",
       " 'downloads/Not_Stocked/90. 32928185-14177331307141168-mitch-nolen.jpg',\n",
       " 'downloads/Not_Stocked/71. iqblspwusrawtgs4frzl635qvu.jpg',\n",
       " 'downloads/Not_Stocked/23. empty-grocery-shelves-gf0f22.jpg',\n",
       " 'downloads/Not_Stocked/1. empty-grocery-shelves-gf0f1k.jpg',\n",
       " 'downloads/Not_Stocked/39. 010918_lamarkroger_1.jpg',\n",
       " 'downloads/Not_Stocked/93. empty-grocery-shelves-gf0f26.jpg',\n",
       " 'downloads/Not_Stocked/47. whole-foods-new-york-city.png',\n",
       " 'downloads/Not_Stocked/10. wal-mart-6.jpg',\n",
       " 'downloads/Not_Stocked/60. hardware-store-caribbean-shelves-stocked-paint-other-home-related-items-bequia-46513934.jpg',\n",
       " 'downloads/Not_Stocked/75. o.jpg',\n",
       " 'downloads/Not_Stocked/64. 136544.xx_large.jpg',\n",
       " 'downloads/Not_Stocked/21. article-2633509-1e068c3200000578-750_634x475.jpg',\n",
       " 'downloads/Not_Stocked/2. empty-grocery-shelves-gf0f24.jpg',\n",
       " 'downloads/Not_Stocked/56. r0_0_762_506_w1200_h678_fmax.jpg',\n",
       " 'downloads/Not_Stocked/5. 32928185-14176860362236795-mitch-nolen.jpg',\n",
       " 'downloads/Not_Stocked/3. 76d3f7-20150902-targetstock01.jpg',\n",
       " 'downloads/Not_Stocked/30. ls.jpg',\n",
       " 'downloads/Not_Stocked/31. maxresdefault.jpg']"
      ]
     },
     "execution_count": 42,
     "metadata": {},
     "output_type": "execute_result"
    }
   ],
   "source": [
    "FListC"
   ]
  },
  {
   "cell_type": "code",
   "execution_count": 35,
   "metadata": {},
   "outputs": [
    {
     "data": {
      "text/plain": [
       "'downloads/Stocked/4. bpa1.jpg'"
      ]
     },
     "execution_count": 35,
     "metadata": {},
     "output_type": "execute_result"
    }
   ],
   "source": [
    "i"
   ]
  },
  {
   "cell_type": "code",
   "execution_count": null,
   "metadata": {},
   "outputs": [],
   "source": []
  }
 ],
 "metadata": {
  "kernelspec": {
   "display_name": "Python 3",
   "language": "python",
   "name": "python3"
  },
  "language_info": {
   "codemirror_mode": {
    "name": "ipython",
    "version": 3
   },
   "file_extension": ".py",
   "mimetype": "text/x-python",
   "name": "python",
   "nbconvert_exporter": "python",
   "pygments_lexer": "ipython3",
   "version": "3.5.5"
  }
 },
 "nbformat": 4,
 "nbformat_minor": 2
}
