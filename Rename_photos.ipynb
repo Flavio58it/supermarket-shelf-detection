{
 "cells": [
  {
   "cell_type": "code",
   "execution_count": 70,
   "metadata": {},
   "outputs": [],
   "source": [
    "import os\n",
    "import numpy as np\n",
    "FList = os.listdir(os.getcwd() + \"/downloads/Stocked/\")\n"
   ]
  },
  {
   "cell_type": "code",
   "execution_count": 68,
   "metadata": {},
   "outputs": [],
   "source": [
    "FListC = [\"downloads/Stocked/\" + x for x in FList]"
   ]
  },
  {
   "cell_type": "code",
   "execution_count": 69,
   "metadata": {},
   "outputs": [],
   "source": [
    "m = 0\n",
    "for i in FListC:\n",
    "    fileExtension = os.path.splitext(i)[1]\n",
    "    try:\n",
    "        os.rename(i,str(m)+fileExtension)\n",
    "        m = m+1\n",
    "    except:\n",
    "        m = m+1\n",
    "        continue\n",
    "        \n",
    "    "
   ]
  },
  {
   "cell_type": "code",
   "execution_count": 5,
   "metadata": {},
   "outputs": [],
   "source": [
    "length_not_stocked = len(os.listdir(os.getcwd() + \"/downloads/Not_Stocked_Augmented/\"))"
   ]
  },
  {
   "cell_type": "code",
   "execution_count": 6,
   "metadata": {},
   "outputs": [],
   "source": [
    "length_stocked = len(os.listdir(os.getcwd() + \"/downloads/Stocked_Augmented/\"))"
   ]
  },
  {
   "cell_type": "code",
   "execution_count": 7,
   "metadata": {},
   "outputs": [
    {
     "data": {
      "text/plain": [
       "129"
      ]
     },
     "execution_count": 7,
     "metadata": {},
     "output_type": "execute_result"
    }
   ],
   "source": [
    "length_not_stocked"
   ]
  },
  {
   "cell_type": "code",
   "execution_count": 8,
   "metadata": {},
   "outputs": [
    {
     "data": {
      "text/plain": [
       "255"
      ]
     },
     "execution_count": 8,
     "metadata": {},
     "output_type": "execute_result"
    }
   ],
   "source": [
    "length_stocked"
   ]
  },
  {
   "cell_type": "code",
   "execution_count": 14,
   "metadata": {},
   "outputs": [],
   "source": [
    "import random\n",
    "import math"
   ]
  },
  {
   "cell_type": "code",
   "execution_count": 22,
   "metadata": {},
   "outputs": [],
   "source": [
    "train_images_not_stocked = random.sample(os.listdir(os.getcwd() + \"/downloads/Not_Stocked_Augmented/\"), math.floor(length_not_stocked*.8))"
   ]
  },
  {
   "cell_type": "code",
   "execution_count": 20,
   "metadata": {},
   "outputs": [],
   "source": [
    "train_images_stocked = random.sample(os.listdir(os.getcwd() + \"/downloads/Stocked_Augmented/\"), math.floor(length_stocked*.8))"
   ]
  },
  {
   "cell_type": "code",
   "execution_count": 21,
   "metadata": {},
   "outputs": [
    {
     "data": {
      "text/plain": [
       "['horizontal_flip_rotate_14.jpg',\n",
       " 'horizontal_flip_horizontal_flip_noise_39.jpg',\n",
       " 'noise_12.jpg',\n",
       " 'rotate_noise_horizontal_flip_53.jpg',\n",
       " 'noise_rotate_52.jpg',\n",
       " 'noise_horizontal_flip_horizontal_flip_56.jpg',\n",
       " 'rotate_40.jpg',\n",
       " 'noise_noise_7.jpg',\n",
       " 'rotate_noise_horizontal_flip_36.jpg',\n",
       " 'noise_noise_horizontal_flip_56.jpg',\n",
       " 'noise_horizontal_flip_11.jpg',\n",
       " 'horizontal_flip_20.jpg',\n",
       " 'rotate_rotate_10.jpg',\n",
       " 'horizontal_flip_noise_horizontal_flip_21.jpg',\n",
       " 'horizontal_flip_8.jpg',\n",
       " 'rotate_12.jpg',\n",
       " 'rotate_52.jpg',\n",
       " 'noise_rotate_noise_41.jpg',\n",
       " 'horizontal_flip_23.jpg',\n",
       " 'noise_horizontal_flip_5.jpg',\n",
       " 'noise_horizontal_flip_21.jpg',\n",
       " 'horizontal_flip_horizontal_flip_3.jpg',\n",
       " 'noise_noise_horizontal_flip_6.jpg',\n",
       " 'horizontal_flip_53.jpg',\n",
       " 'rotate_horizontal_flip_8.jpg',\n",
       " 'rotate_noise_33.jpg',\n",
       " 'rotate_noise_noise_34.jpg',\n",
       " 'rotate_horizontal_flip_9.jpg',\n",
       " 'noise_horizontal_flip_32.jpg',\n",
       " 'noise_rotate_rotate_3.jpg',\n",
       " 'rotate_noise_horizontal_flip_22.jpg',\n",
       " 'horizontal_flip_rotate_noise_33.jpg',\n",
       " 'horizontal_flip_24.jpg',\n",
       " 'horizontal_flip_horizontal_flip_57.jpg',\n",
       " 'horizontal_flip_noise_21.jpg',\n",
       " 'rotate_horizontal_flip_rotate_20.jpg',\n",
       " 'noise_rotate_8.jpg',\n",
       " 'rotate_noise_rotate_48.jpg',\n",
       " 'noise_32.jpg',\n",
       " 'rotate_noise_11.jpg',\n",
       " 'noise_horizontal_flip_33.jpg',\n",
       " 'rotate_46.jpg',\n",
       " 'rotate_rotate_horizontal_flip_40.jpg',\n",
       " 'horizontal_flip_horizontal_flip_50.jpg',\n",
       " 'noise_noise_8.jpg',\n",
       " 'rotate_noise_52.jpg',\n",
       " 'rotate_rotate_41.jpg',\n",
       " 'horizontal_flip_42.jpg',\n",
       " 'rotate_horizontal_flip_horizontal_flip_27.jpg',\n",
       " 'horizontal_flip_29.png',\n",
       " 'rotate_24.jpg',\n",
       " 'noise_rotate_1.jpg',\n",
       " 'rotate_34.jpg',\n",
       " 'noise_noise_horizontal_flip_35.jpg',\n",
       " 'horizontal_flip_noise_47.jpg',\n",
       " 'horizontal_flip_rotate_horizontal_flip_52.jpg',\n",
       " 'noise_noise_19.jpg',\n",
       " 'horizontal_flip_horizontal_flip_1.jpg',\n",
       " 'noise_21.jpg',\n",
       " 'rotate_48.jpg',\n",
       " 'rotate_rotate_rotate_56.jpg',\n",
       " 'noise_22.jpg',\n",
       " 'rotate_rotate_noise_54.jpg',\n",
       " 'rotate_rotate_46.jpg',\n",
       " 'rotate_horizontal_flip_rotate_6.jpg',\n",
       " 'noise_horizontal_flip_41.jpg',\n",
       " 'horizontal_flip_rotate_horizontal_flip_13.jpg',\n",
       " 'rotate_10.jpg',\n",
       " 'horizontal_flip_45.jpg',\n",
       " 'rotate_rotate_rotate_7.jpg',\n",
       " 'noise_16.jpg',\n",
       " 'horizontal_flip_noise_rotate_21.jpg',\n",
       " 'horizontal_flip_rotate_57.jpg',\n",
       " 'rotate_noise_4.jpg',\n",
       " 'noise_26.jpg',\n",
       " 'noise_53.jpg',\n",
       " 'horizontal_flip_26.jpg',\n",
       " 'horizontal_flip_rotate_27.jpg',\n",
       " 'noise_horizontal_flip_rotate_27.jpg',\n",
       " 'horizontal_flip_rotate_51.jpg',\n",
       " 'rotate_noise_rotate_14.jpg',\n",
       " 'noise_noise_20.jpg',\n",
       " 'rotate_rotate_31.jpg',\n",
       " 'rotate_32.jpg',\n",
       " '.ipynb_checkpoints',\n",
       " 'rotate_42.jpg',\n",
       " 'rotate_noise_51.jpg',\n",
       " 'horizontal_flip_noise_noise_34.jpg',\n",
       " 'noise_rotate_horizontal_flip_24.jpg',\n",
       " 'horizontal_flip_16.jpg',\n",
       " 'rotate_rotate_rotate_29.png',\n",
       " 'horizontal_flip_horizontal_flip_17.jpg',\n",
       " 'noise_noise_horizontal_flip_33.jpg',\n",
       " 'horizontal_flip_44.jpg',\n",
       " 'horizontal_flip_rotate_24.jpg',\n",
       " 'horizontal_flip_0.jpg',\n",
       " 'noise_rotate_horizontal_flip_5.jpg',\n",
       " 'rotate_25.jpg',\n",
       " 'rotate_36.jpg',\n",
       " 'noise_rotate_29.png',\n",
       " 'horizontal_flip_46.jpg',\n",
       " 'noise_29.png',\n",
       " 'rotate_28.jpg',\n",
       " 'horizontal_flip_noise_2.jpg',\n",
       " 'horizontal_flip_33.jpg',\n",
       " 'noise_25.jpg',\n",
       " 'rotate_noise_13.jpg',\n",
       " 'rotate_horizontal_flip_40.jpg',\n",
       " 'rotate_noise_rotate_34.jpg',\n",
       " 'rotate_31.jpg',\n",
       " 'rotate_horizontal_flip_horizontal_flip_14.jpg',\n",
       " 'noise_15.jpg',\n",
       " 'horizontal_flip_horizontal_flip_rotate_1.jpg',\n",
       " 'horizontal_flip_noise_34.jpg',\n",
       " 'horizontal_flip_noise_6.jpg',\n",
       " 'rotate_horizontal_flip_rotate_53.jpg',\n",
       " 'rotate_noise_31.jpg',\n",
       " 'horizontal_flip_noise_50.jpg',\n",
       " 'horizontal_flip_horizontal_flip_26.jpg',\n",
       " 'horizontal_flip_48.jpg',\n",
       " 'rotate_horizontal_flip_rotate_17.jpg',\n",
       " 'rotate_noise_55.jpg',\n",
       " 'noise_rotate_noise_35.jpg',\n",
       " 'noise_rotate_rotate_9.jpg',\n",
       " 'horizontal_flip_horizontal_flip_noise_17.jpg',\n",
       " 'noise_5.jpg',\n",
       " 'rotate_noise_rotate_38.jpg',\n",
       " 'rotate_noise_1.jpg',\n",
       " 'rotate_51.jpg',\n",
       " 'rotate_17.jpg',\n",
       " 'noise_noise_16.jpg',\n",
       " 'rotate_horizontal_flip_rotate_39.jpg',\n",
       " 'noise_noise_noise_45.jpg',\n",
       " 'rotate_rotate_rotate_46.jpg',\n",
       " 'noise_noise_0.jpg',\n",
       " 'horizontal_flip_14.jpg',\n",
       " 'rotate_noise_45.jpg',\n",
       " 'noise_noise_14.jpg',\n",
       " 'noise_38.jpg',\n",
       " 'rotate_rotate_noise_35.jpg',\n",
       " 'rotate_noise_18.jpg',\n",
       " 'horizontal_flip_noise_25.jpg',\n",
       " 'noise_horizontal_flip_rotate_11.jpg',\n",
       " 'noise_23.jpg',\n",
       " 'noise_noise_55.jpg',\n",
       " 'noise_57.jpg',\n",
       " 'noise_55.jpg',\n",
       " 'horizontal_flip_39.jpg',\n",
       " 'horizontal_flip_horizontal_flip_36.jpg',\n",
       " 'horizontal_flip_15.jpg',\n",
       " 'rotate_noise_noise_40.jpg',\n",
       " 'rotate_horizontal_flip_42.jpg',\n",
       " 'rotate_horizontal_flip_50.jpg',\n",
       " 'rotate_horizontal_flip_noise_31.jpg',\n",
       " 'noise_17.jpg',\n",
       " 'noise_44.jpg',\n",
       " 'horizontal_flip_30.jpg',\n",
       " 'noise_52.jpg',\n",
       " 'horizontal_flip_noise_30.jpg',\n",
       " 'rotate_rotate_44.jpg',\n",
       " 'noise_30.jpg',\n",
       " 'rotate_44.jpg',\n",
       " 'rotate_30.jpg',\n",
       " 'rotate_noise_40.jpg',\n",
       " 'noise_noise_28.jpg',\n",
       " 'rotate_27.jpg',\n",
       " 'horizontal_flip_horizontal_flip_noise_11.jpg',\n",
       " 'noise_36.jpg',\n",
       " 'rotate_noise_horizontal_flip_19.jpg',\n",
       " 'rotate_rotate_4.jpg',\n",
       " 'horizontal_flip_noise_36.jpg',\n",
       " 'horizontal_flip_38.jpg',\n",
       " 'rotate_noise_horizontal_flip_55.jpg',\n",
       " 'noise_19.jpg',\n",
       " 'rotate_rotate_54.jpg',\n",
       " 'noise_13.jpg',\n",
       " 'rotate_38.jpg',\n",
       " 'noise_horizontal_flip_39.jpg',\n",
       " 'noise_48.jpg',\n",
       " 'rotate_45.jpg',\n",
       " 'horizontal_flip_noise_10.jpg',\n",
       " 'horizontal_flip_horizontal_flip_noise_10.jpg',\n",
       " 'horizontal_flip_22.jpg',\n",
       " 'rotate_horizontal_flip_rotate_41.jpg',\n",
       " 'noise_noise_46.jpg',\n",
       " 'noise_horizontal_flip_55.jpg',\n",
       " 'rotate_rotate_56.jpg',\n",
       " 'horizontal_flip_horizontal_flip_18.jpg',\n",
       " 'rotate_50.jpg',\n",
       " 'rotate_rotate_noise_26.jpg',\n",
       " 'rotate_horizontal_flip_48.jpg',\n",
       " 'horizontal_flip_rotate_4.jpg',\n",
       " 'noise_noise_noise_41.jpg',\n",
       " 'noise_47.jpg',\n",
       " 'horizontal_flip_rotate_23.jpg',\n",
       " 'rotate_rotate_rotate_23.jpg',\n",
       " 'horizontal_flip_noise_horizontal_flip_25.jpg',\n",
       " 'rotate_noise_12.jpg',\n",
       " 'rotate_horizontal_flip_18.jpg',\n",
       " 'horizontal_flip_50.jpg',\n",
       " 'noise_rotate_rotate_56.jpg',\n",
       " 'noise_rotate_rotate_54.jpg',\n",
       " 'noise_rotate_noise_15.jpg',\n",
       " 'rotate_rotate_45.jpg']"
      ]
     },
     "execution_count": 21,
     "metadata": {},
     "output_type": "execute_result"
    }
   ],
   "source": [
    "train_images_stocked"
   ]
  },
  {
   "cell_type": "code",
   "execution_count": 32,
   "metadata": {},
   "outputs": [],
   "source": [
    "#os.rename() to move files to train / test\n",
    "def move_files(path_list, preface):\n",
    "    for path in path_list:\n",
    "        os.rename(preface + path, preface + \"train/\" + path)\n",
    "        "
   ]
  },
  {
   "cell_type": "code",
   "execution_count": 35,
   "metadata": {},
   "outputs": [],
   "source": [
    "move_files(train_images_stocked, \"downloads/Stocked_Augmented/\") #Move images to correct folder"
   ]
  }
 ],
 "metadata": {
  "kernelspec": {
   "display_name": "Python 3",
   "language": "python",
   "name": "python3"
  },
  "language_info": {
   "codemirror_mode": {
    "name": "ipython",
    "version": 3
   },
   "file_extension": ".py",
   "mimetype": "text/x-python",
   "name": "python",
   "nbconvert_exporter": "python",
   "pygments_lexer": "ipython3",
   "version": "3.5.5"
  }
 },
 "nbformat": 4,
 "nbformat_minor": 2
}
