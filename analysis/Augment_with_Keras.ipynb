{
 "cells": [
  {
   "cell_type": "markdown",
   "metadata": {},
   "source": [
    "# Augmenting images with Keras Package"
   ]
  },
  {
   "cell_type": "code",
   "execution_count": 5,
   "metadata": {},
   "outputs": [],
   "source": [
    "from keras.preprocessing.image import ImageDataGenerator, array_to_img, img_to_array, load_img"
   ]
  },
  {
   "cell_type": "code",
   "execution_count": 10,
   "metadata": {},
   "outputs": [],
   "source": [
    "import os"
   ]
  },
  {
   "cell_type": "code",
   "execution_count": 5,
   "metadata": {},
   "outputs": [],
   "source": [
    "datagen = ImageDataGenerator(\n",
    "        rotation_range=40,\n",
    "        width_shift_range=0.2,\n",
    "        height_shift_range=0.2,\n",
    "        rescale=1./255,\n",
    "        shear_range=0.2,\n",
    "        zoom_range=0.2,\n",
    "        horizontal_flip=True,\n",
    "        fill_mode='nearest')"
   ]
  },
  {
   "cell_type": "code",
   "execution_count": 24,
   "metadata": {},
   "outputs": [],
   "source": [
    "for file in os.listdir(os.getcwd() + \"/downloads/Not_Stocked/\"): #Use this structure \n",
    "    if file.startswith(\".\"):\n",
    "        continue"
   ]
  },
  {
   "cell_type": "code",
   "execution_count": 17,
   "metadata": {},
   "outputs": [],
   "source": [
    "for file in os.listdir(os.getcwd() + \"/downloads/Not_Stocked/\"):\n",
    "    if file.startswith(\".\"):\n",
    "        continue\n",
    "    img = load_img(\"downloads/Not_Stocked/\" + file)  # this is a PIL image\n",
    "    x = img_to_array(img)  # this is a Numpy array with shape (3, 150, 150)\n",
    "    x = x.reshape((1,) + x.shape)  # this is a Numpy array with shape (1, 3, 150, 150)\n",
    "\n",
    "    # the .flow() command below generates batches of randomly transformed images\n",
    "    # and saves the results to the `preview/` directory\n",
    "    i = 0\n",
    "    for batch in datagen.flow(x, batch_size=1,\n",
    "                              save_to_dir='preview/Not_Stocked', save_prefix='not_stocked', save_format='jpeg'):\n",
    "        i += 1\n",
    "        if i > 20:\n",
    "            break "
   ]
  },
  {
   "cell_type": "code",
   "execution_count": 21,
   "metadata": {},
   "outputs": [],
   "source": [
    "for file in os.listdir(os.getcwd() + \"/downloads/Stocked/\"):\n",
    "    if file.startswith(\".\"):\n",
    "        continue\n",
    "    img = load_img(\"downloads/Stocked/\" + file)  # this is a PIL image\n",
    "    x = img_to_array(img)  # this is a Numpy array with shape (3, 150, 150)\n",
    "    x = x.reshape((1,) + x.shape)  # this is a Numpy array with shape (1, 3, 150, 150)\n",
    "\n",
    "    # the .flow() command below generates batches of randomly transformed images\n",
    "    # and saves the results to the `preview/` directory\n",
    "    i = 0\n",
    "    try:\n",
    "        for batch in datagen.flow(x, batch_size=1,\n",
    "                                  save_to_dir='preview/Stocked', save_prefix='stocked', save_format='jpeg'):\n",
    "            i += 1\n",
    "            if i > 20:\n",
    "                break \n",
    "    except:\n",
    "        continue"
   ]
  },
  {
   "cell_type": "code",
   "execution_count": 32,
   "metadata": {},
   "outputs": [],
   "source": [
    "length_stocked = len(os.listdir(os.getcwd() + \"/data/Stocked/\"))"
   ]
  },
  {
   "cell_type": "code",
   "execution_count": 33,
   "metadata": {},
   "outputs": [],
   "source": [
    "length_not_stocked = len(os.listdir(os.getcwd() + \"/data/Not_Stocked/\"))"
   ]
  },
  {
   "cell_type": "code",
   "execution_count": 34,
   "metadata": {},
   "outputs": [],
   "source": [
    "import random\n",
    "import math"
   ]
  },
  {
   "cell_type": "code",
   "execution_count": 35,
   "metadata": {},
   "outputs": [],
   "source": [
    "train_images_not_stocked = random.sample(os.listdir(os.getcwd() + \"/data/Not_Stocked/\"), \n",
    "                                         math.floor(length_not_stocked*.8))\n",
    "train_images_stocked = random.sample(os.listdir(os.getcwd() + \"/data/Stocked/\"), \n",
    "                                         math.floor(length_not_stocked*.8))"
   ]
  },
  {
   "cell_type": "code",
   "execution_count": 38,
   "metadata": {},
   "outputs": [],
   "source": [
    "#os.rename() to move files to train / test\n",
    "def move_files(path_list, preface, set_type):\n",
    "    for path in path_list:\n",
    "        os.rename(preface + path, preface + set_type + path)"
   ]
  },
  {
   "cell_type": "code",
   "execution_count": 40,
   "metadata": {},
   "outputs": [],
   "source": [
    "move_files(train_images_stocked, \"data/Stocked/\", \"train/\") #Move images to correct folder"
   ]
  },
  {
   "cell_type": "code",
   "execution_count": 41,
   "metadata": {},
   "outputs": [],
   "source": [
    "move_files(train_images_not_stocked, \"data/Not_Stocked/\", \"train/\") #Move images to correct folder"
   ]
  },
  {
   "cell_type": "code",
   "execution_count": 43,
   "metadata": {},
   "outputs": [],
   "source": [
    "test_images_not_stocked = random.sample(os.listdir(os.getcwd() + \"/data/Not_Stocked/\"), \n",
    "                                         math.floor(len(os.listdir(os.getcwd() + \"/data/Not_Stocked/\"))*.5))"
   ]
  },
  {
   "cell_type": "code",
   "execution_count": 62,
   "metadata": {},
   "outputs": [],
   "source": [
    "test_images_stocked = random.sample(os.listdir(os.getcwd() + \"/data/Stocked/\"), \n",
    "                                         math.floor(len(os.listdir(os.getcwd() + \"/data/Stocked/\"))*.5))"
   ]
  },
  {
   "cell_type": "code",
   "execution_count": 57,
   "metadata": {},
   "outputs": [],
   "source": [
    "move_files(test_images_not_stocked, \"data/Not_Stocked/\", \"test/\") #Move images to correct folder"
   ]
  },
  {
   "cell_type": "code",
   "execution_count": 65,
   "metadata": {},
   "outputs": [],
   "source": [
    "test_images_stocked = [x for x in test_images_stocked if x not in [\"train\", \"test\", \"validation\"]]"
   ]
  },
  {
   "cell_type": "code",
   "execution_count": 66,
   "metadata": {},
   "outputs": [],
   "source": [
    "move_files(test_images_stocked, \"data/Stocked/\", \"test/\") #Move images to correct folder"
   ]
  },
  {
   "cell_type": "code",
   "execution_count": null,
   "metadata": {},
   "outputs": [],
   "source": []
  }
 ],
 "metadata": {
  "kernelspec": {
   "display_name": "Python 3",
   "language": "python",
   "name": "python3"
  },
  "language_info": {
   "codemirror_mode": {
    "name": "ipython",
    "version": 3
   },
   "file_extension": ".py",
   "mimetype": "text/x-python",
   "name": "python",
   "nbconvert_exporter": "python",
   "pygments_lexer": "ipython3",
   "version": "3.5.5"
  }
 },
 "nbformat": 4,
 "nbformat_minor": 2
}
